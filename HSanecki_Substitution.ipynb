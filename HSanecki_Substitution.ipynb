{
 "cells": [
  {
   "cell_type": "code",
   "execution_count": 2,
   "metadata": {},
   "outputs": [
    {
     "name": "stdout",
     "output_type": "stream",
     "text": [
      "Force Error in H.Sanecki = -167982.274731 N\n",
      "Force Error in Sabstitution = -0.000000 N\n"
     ]
    },
    {
     "data": {
      "text/plain": [
       "<Figure size 640x480 with 2 Axes>"
      ]
     },
     "metadata": {},
     "output_type": "display_data"
    },
    {
     "data": {
      "text/plain": [
       "<Figure size 640x480 with 2 Axes>"
      ]
     },
     "metadata": {},
     "output_type": "display_data"
    },
    {
     "data": {
      "text/plain": [
       "<Figure size 640x480 with 2 Axes>"
      ]
     },
     "metadata": {},
     "output_type": "display_data"
    },
    {
     "data": {
      "text/plain": [
       "<Figure size 640x480 with 2 Axes>"
      ]
     },
     "metadata": {},
     "output_type": "display_data"
    }
   ],
   "source": [
    "# -*- coding: utf-8 -*-\n",
    "\"\"\"\n",
    "Created on Tue Feb 18 22:19:47 2020\n",
    "\n",
    "@author: Jimit Vyas\n",
    "\"\"\"\n",
    "import numpy as np \n",
    "from scipy.integrate import quad \n",
    "from math import *\n",
    "import matplotlib.pyplot as plt\n",
    "\n",
    "\n",
    "#Angle of repose\n",
    "phi = radians(38) #radians\n",
    "\n",
    "#Initial an\n",
    "omega = 0\n",
    "delta = 0\n",
    "\n",
    "#load Factors\n",
    "g = 9.810 \n",
    "ay = 0.4\n",
    "az = 2\n",
    "\n",
    "#resultant acceleration\n",
    "ayz = sqrt(ay**2+az**2)\n",
    "\n",
    "#Angle of resultant\n",
    "e = atan(ay/az)\n",
    "\n",
    "#Bucket Dimensions \n",
    "L = 5806 #mm \n",
    "B = 3212 #mm \n",
    "h = 1640 #mm \n",
    "M = 72000 #kg \n",
    "\n",
    "#Lateral LoadTransfer\n",
    "Ftrans = M*ay*g\n",
    "\n",
    "#Tipper Volume\n",
    "v1 = L*B*h \n",
    "\n",
    "#Angle of Maximum Stable embankment with symmetrical shape\n",
    "beta0 = phi-e\n",
    "\n",
    "#Overload Volume\n",
    "v2 = L*(0.5*B*(0.5*B*tan(beta0)))\n",
    "\n",
    "#Density\n",
    "rho = M/((v1+v2)) #kg*mm-3 \n",
    "\n",
    "#Hydrostatic Force\n",
    "F = 0.5*rho*L*ayz*g*(h**2)\n",
    "\n",
    "#Coefficient for Side wall 1 & 2 by H.Sanecki\n",
    "KH1 = cos(e)*((cos(phi-e))**2)/((cos(e)**3))\n",
    "KH2 = cos(e)*((cos(phi+e))**2)/((cos(e)**3))\n",
    "\n",
    "#Pressure function for Wall 1 & 2 by H.Sanecki\n",
    "FH1 = F*KH1\n",
    "FH2 = F*KH2\n",
    "\n",
    "#Coefficient for Side wall 1 by Substitution\n",
    "omega = asin(Ftrans/(2*F*sin(phi)))\n",
    "KS1 = cos(phi-omega)\n",
    "KS2 = cos(phi+omega)\n",
    "\n",
    "#Pressure function for Wall 1 & 2 by Substitution\n",
    "FS1 = F*KS1\n",
    "FS2 = F*KS2\n",
    "\n",
    "#Check Differences\n",
    "diffH = ((FH1-FH2) - Ftrans)\n",
    "diffS = ((FS1-FS2) - Ftrans)\n",
    "print (\"Force Error in H.Sanecki = %f N\" %diffH)\n",
    "print (\"Force Error in Sabstitution = %f N\" %diffS)\n",
    "\n",
    "\n",
    "#Pressure Plotting\n",
    "def myplot(n,x,y,z,title,xlabel,ylabel):   \n",
    "    plt.figure(n)\n",
    "    plt.title(title)\n",
    "    plt.contour(x,y,z,20,linewidths=0.5, colors='k')\n",
    "    plt.contourf(x,y,z,20,cmap=plt.cm.jet)\n",
    "    plt.colorbar()\n",
    "    plt.xlabel(xlabel)\n",
    "    plt.ylabel(ylabel)\n",
    "    plt.show()\n",
    "\n",
    "div = 100\n",
    "Lp = np.linspace(0,-L,div)\n",
    "Bp = np.linspace(0,B,div)\n",
    "Hp= np.linspace(0,-h,div)\n",
    "\n",
    "[l1, h1] = np.meshgrid(Lp, Hp)\n",
    "[b1, h1] = np.meshgrid(Bp, Hp)\n",
    "\n",
    "p11 = rho*ayz*g*h1*KH1*10E6\n",
    "p12 = rho*ayz*g*h1*KH2*10E6\n",
    "myplot(1,l1,h1,p11,\"Left Wall by H.Sanecki (Pa)\",\"Length (mm)\", \"Height (mm)\")\n",
    "myplot(2,l1,h1,p12,\"Right Wall by H.Sanecki (Pa)\",\"Length (mm)\", \"Height (mm)\")\n",
    "\n",
    "p21 = rho*ayz*g*h1*KS1*10E6\n",
    "p22 = rho*ayz*g*h1*KS2*10E6\n",
    "myplot(3,l1,h1,p21,\"Left Wall Pressure by Substitution (Pa)\",\"Length (mm)\", \"Height (mm)\")\n",
    "myplot(4,l1,h1,p22,\"Right Wall Pressure by Sabstitution (Pa)\",\"Length (mm)\", \"Height (mm)\")"
   ]
  },
  {
   "cell_type": "code",
   "execution_count": null,
   "metadata": {},
   "outputs": [],
   "source": []
  }
 ],
 "metadata": {
  "kernelspec": {
   "display_name": "Python 3",
   "language": "python",
   "name": "python3"
  },
  "language_info": {
   "codemirror_mode": {
    "name": "ipython",
    "version": 3
   },
   "file_extension": ".py",
   "mimetype": "text/x-python",
   "name": "python",
   "nbconvert_exporter": "python",
   "pygments_lexer": "ipython3",
   "version": "3.7.4"
  }
 },
 "nbformat": 4,
 "nbformat_minor": 2
}
