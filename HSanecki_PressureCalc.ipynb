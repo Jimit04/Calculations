{
 "cells": [
  {
   "cell_type": "code",
   "execution_count": 1,
   "metadata": {},
   "outputs": [
    {
     "name": "stdout",
     "output_type": "stream",
     "text": [
      "0.8301816551430399 0.44206336463264134\n",
      "0.9742597792165442 0.016962733654682517\n",
      "-59.45685904811269 -2.0602439727555288e-14\n"
     ]
    }
   ],
   "source": [
    "#import numpy as np \n",
    "#from scipy.integrate import quad \n",
    "#import matplotlib.pyplot as plt\n",
    "from math import *\n",
    "\n",
    "#Angle of repose\n",
    "phi = radians(38) #radians\n",
    "\n",
    "#Initial an\n",
    "omega = 0\n",
    "delta = 0\n",
    "\n",
    "#load Factors\n",
    "g = 9.810 \n",
    "ay = 0.4\n",
    "az = 2\n",
    "\n",
    "#resultant acceleration\n",
    "ayz = sqrt(ay**2+az**2)\n",
    "\n",
    "#Angle of resultant\n",
    "e = atan(ay/az)\n",
    "\n",
    "#Bucket Dimensions \n",
    "L = 5806 #mm \n",
    "B = 3212 #mm \n",
    "h = 1640 #mm \n",
    "M = 72000 #kg \n",
    "\n",
    "#Lateral LoadTransfer\n",
    "Ftrans = M*ay*g\n",
    "\n",
    "#Tipper Volume\n",
    "v1 = L*B*h \n",
    "\n",
    "#Angle of Maximum Stable embankment with symmetrical shape\n",
    "beta0 = phi-e\n",
    "\n",
    "#Overload Volume\n",
    "v2 = L*(0.5*B*(0.5*B*tan(beta0)))\n",
    "\n",
    "#Density\n",
    "rho = M/((v1+v2)) #kg*mm-3 \n",
    "\n",
    "#Hydrostatic Force\n",
    "F = 0.5*rho*L*ayz*g*(h**2)\n",
    "#print(F,Ftrans)\n",
    "\n",
    "#Coefficient for Side wall 1 by H.Sanecki\n",
    "KH1 = cos(e)*((cos(phi-e))**2)/((cos(e)**3))\n",
    "#Coefficient for Side wall 2\n",
    "KH2 = cos(e)*((cos(phi+e))**2)/((cos(e)**3))\n",
    "print (KH1, KH2)\n",
    "\n",
    "#Pressure function for Wall 1 & 2 by H.Sanecki\n",
    "FH1 = F*KH1\n",
    "FH2 = F*KH2\n",
    "#print (FH1,FH2) \n",
    "\n",
    "#Coefficient for Side wall 1 by Simple BackTrack\n",
    "omega = asin(Ftrans/(2*F*sin(phi)))\n",
    "KS1 = cos(phi-omega)\n",
    "KS2 = cos(phi+omega)\n",
    "print (KS1, KS2)\n",
    "\n",
    "#Pressure function for Wall 1 & 2 by Simple BackTrack\n",
    "FS1 = F*KS1\n",
    "FS2 = F*KS2\n",
    "#print (FS1,FS2) \n",
    "\n",
    "#Check Differences\n",
    "diffH = ((FH1-FH2) - Ftrans)*100/Ftrans\n",
    "diffS = ((FS1-FS2) - Ftrans)*100/Ftrans\n",
    "print (diffH,diffS)"
   ]
  },
  {
   "cell_type": "code",
   "execution_count": null,
   "metadata": {},
   "outputs": [],
   "source": []
  }
 ],
 "metadata": {
  "kernelspec": {
   "display_name": "Python 3",
   "language": "python",
   "name": "python3"
  },
  "language_info": {
   "codemirror_mode": {
    "name": "ipython",
    "version": 3
   },
   "file_extension": ".py",
   "mimetype": "text/x-python",
   "name": "python",
   "nbconvert_exporter": "python",
   "pygments_lexer": "ipython3",
   "version": "3.6.7"
  }
 },
 "nbformat": 4,
 "nbformat_minor": 2
}
